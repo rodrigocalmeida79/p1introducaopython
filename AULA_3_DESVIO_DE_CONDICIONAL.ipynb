{
  "nbformat": 4,
  "nbformat_minor": 0,
  "metadata": {
    "colab": {
      "provenance": [],
      "authorship_tag": "ABX9TyMmdX2qTZuCZcn66/pxRIjj",
      "include_colab_link": true
    },
    "kernelspec": {
      "name": "python3",
      "display_name": "Python 3"
    },
    "language_info": {
      "name": "python"
    }
  },
  "cells": [
    {
      "cell_type": "markdown",
      "metadata": {
        "id": "view-in-github",
        "colab_type": "text"
      },
      "source": [
        "<a href=\"https://colab.research.google.com/github/rodrigocalmeida79/p1introducaopython/blob/main/AULA_3_DESVIO_DE_CONDICIONAL.ipynb\" target=\"_parent\"><img src=\"https://colab.research.google.com/assets/colab-badge.svg\" alt=\"Open In Colab\"/></a>"
      ]
    },
    {
      "cell_type": "code",
      "execution_count": null,
      "metadata": {
        "colab": {
          "base_uri": "https://localhost:8080/"
        },
        "id": "LlhttaXmpTpP",
        "outputId": "1005d7d2-f577-427b-f55a-a26dcddc4184"
      },
      "outputs": [
        {
          "output_type": "stream",
          "name": "stdout",
          "text": [
            "Digitie um número: 5\n",
            "O número 5 é menor do que 10!\n"
          ]
        }
      ],
      "source": [
        "# ATIVIDADE - ESTRUTURAS DE SELEÇÃO - 1/15\n",
        "\n",
        "numero = float(input('Digitie um número: '))\n",
        "if numero > 10:\n",
        "  print(f'O número {int(numero)} é maior que 10!')\n",
        "elif numero == 10:\n",
        "  print(f'Seu número é 10!')\n",
        "else:\n",
        "  print(f'O número {int(numero)} é menor do que 10!')"
      ]
    },
    {
      "cell_type": "code",
      "source": [
        "# ATIVIDADE - ESTRUTURAS DE SELEÇÃO - 2/15\n",
        "\n",
        "# MÉDIA 6\n",
        "nota1 = float(input('Primeira nota: '))\n",
        "nota2 = float(input('Segunda nota: '))\n",
        "\n",
        "media = (nota1 + nota2) / 2\n",
        "\n",
        "if media >= 6:\n",
        "  print('Você foi aprovado!')\n",
        "  print(f'Média: {media}')\n",
        "else:\n",
        "  print('Você foi reprovado!')\n",
        "  print(f'Média: {media}')\n"
      ],
      "metadata": {
        "colab": {
          "base_uri": "https://localhost:8080/",
          "height": 0
        },
        "id": "3Cb7P6dsAqGy",
        "outputId": "87f53125-c8d7-4653-85f1-c7f7ccfb3f34"
      },
      "execution_count": 27,
      "outputs": [
        {
          "output_type": "stream",
          "name": "stdout",
          "text": [
            "Primeira nota: 5\n",
            "Segunda nota: 6\n",
            "Você foi reprovado!\n",
            "Média: 5.5\n"
          ]
        }
      ]
    },
    {
      "cell_type": "code",
      "source": [
        "# ATIVIDADE - ESTRUTURAS DE SELEÇÃO - 3/15\n",
        "\n",
        "valor1 = float(input('Digite um número: '))\n",
        "valor2 = float(input('Digite outro número: '))\n",
        "\n",
        "if valor1 == valor2:\n",
        "  print('Não pode repetir os valores!')\n",
        "else:\n",
        "  if valor1 > valor2:\n",
        "    print(f'{valor1} é maior!')\n",
        "  else:\n",
        "    print(f'{valor2} é maior!')"
      ],
      "metadata": {
        "colab": {
          "base_uri": "https://localhost:8080/",
          "height": 0
        },
        "id": "vdt6VmLgEct9",
        "outputId": "23c241e5-86f6-4f88-fa8f-c02c29dd498e"
      },
      "execution_count": 30,
      "outputs": [
        {
          "output_type": "stream",
          "name": "stdout",
          "text": [
            "Digite um número: 2\n",
            "Digite outro número: 5\n",
            "5.0 é maior!\n"
          ]
        }
      ]
    },
    {
      "cell_type": "code",
      "source": [
        "# ATIVIDADE - ESTRUTURAS DE SELEÇÃO - 4/15\n",
        "\n",
        "valor1 = int(input('Digite um número: '))\n",
        "valor2 = int(input('Digite outro número: '))\n",
        "\n",
        "if valor1 == valor2:\n",
        "  print('Não pode repetir os valores!')\n",
        "else:\n",
        "  if valor1 > valor2:\n",
        "    print(f'{valor2}, {valor1}')\n",
        "  else:\n",
        "    print(f'{valor1}, {valor2}')"
      ],
      "metadata": {
        "colab": {
          "base_uri": "https://localhost:8080/",
          "height": 0
        },
        "id": "ihSLwDISGONE",
        "outputId": "9da1deaa-472e-482a-e310-d16409c809c2"
      },
      "execution_count": 35,
      "outputs": [
        {
          "output_type": "stream",
          "name": "stdout",
          "text": [
            "Digite um número: 10\n",
            "Digite outro número: 15\n",
            "10, 15\n"
          ]
        }
      ]
    },
    {
      "cell_type": "code",
      "source": [
        "# ATIVIDADE - ESTRUTURAS DE SELEÇÃO - 5/15\n",
        "\n",
        "numconta = input('Número da conta: ')\n",
        "# SALDO BANCÁRIO:\n",
        "saldo = 5000\n",
        "debito = float(input('Digite o valor do seu débito: '))\n",
        "credito = float(input('Digite o valor do seu crédito: '))\n",
        "\n",
        "novosaldo = saldo + (credito - debito)\n",
        "\n",
        "if novosaldo >= 0:\n",
        "  print(f'Seu saldo é positivo: R$ {novosaldo}')\n",
        "else:\n",
        "  print(f'Seu saldo é negativo: R$ {novosaldo}')\n"
      ],
      "metadata": {
        "colab": {
          "base_uri": "https://localhost:8080/"
        },
        "id": "IlBEMMY7HC1C",
        "outputId": "5fb146c7-25fb-453a-a641-5bab30ae0ccb"
      },
      "execution_count": 44,
      "outputs": [
        {
          "output_type": "stream",
          "name": "stdout",
          "text": [
            "Número da conta: 123\n",
            "Digite o valor do seu débito: 5900\n",
            "Digite o valor do seu crédito: 255\n",
            "Seu saldo é negativo: R$ -645.0\n"
          ]
        }
      ]
    },
    {
      "cell_type": "code",
      "source": [
        "# ATIVIDADE - ESTRUTURAS DE SELEÇÃO - 6/15\n",
        "\n",
        "#ESTOQUE MÍNIMO\n",
        "estoquemin = 5\n",
        "estoquemax = 20\n",
        "estoquemedia = (estoquemin + estoquemax) / 2\n",
        "\n",
        "estoqueatual = int(input('Quantidade atual em estoque: '))\n",
        "\n",
        "if estoqueatual >= estoquemedia:\n",
        "  print('Não efeturar compra!')\n",
        "else:\n",
        "  print('Efeturar compra!')"
      ],
      "metadata": {
        "colab": {
          "base_uri": "https://localhost:8080/"
        },
        "id": "XZK0_no4Jnl5",
        "outputId": "be90cbc4-2c6d-46c2-d766-463e225d7c53"
      },
      "execution_count": 49,
      "outputs": [
        {
          "output_type": "stream",
          "name": "stdout",
          "text": [
            "Quantidade atual em estoque: 13\n",
            "Não efeturar compra!\n"
          ]
        }
      ]
    },
    {
      "cell_type": "code",
      "source": [
        "# ATIVIDADE - ESTRUTURAS DE SELEÇÃO - 7/15\n",
        "\n",
        "valor = float(input('Digite o valor da compra: '))\n",
        "desconto1 = 0.1\n",
        "desconto2 = 0.05\n",
        "\n",
        "if valor > 100:\n",
        "  vdesconto = valor * desconto1\n",
        "  print(f'O seu desconto foi de R$ {vdesconto} e o total a pagar será R$ {valor - vdesconto}')\n",
        "elif valor >= 50 and valor <= 100:\n",
        "  # pode ser usado 50 <= valor <= 100\n",
        "  vdesconto = valor * desconto2\n",
        "  print(f'O seu desconto foi de R$ {vdesconto}  e o total a pagar será R$ {valor - vdesconto}')\n",
        "else:\n",
        "  print(f'Valor da compra R$ {valor}')"
      ],
      "metadata": {
        "colab": {
          "base_uri": "https://localhost:8080/"
        },
        "id": "1BnPq5N2t4Vp",
        "outputId": "e4e75954-459c-4341-bd9c-030de56a99fa"
      },
      "execution_count": null,
      "outputs": [
        {
          "output_type": "stream",
          "name": "stdout",
          "text": [
            "Digite o valor da compra: 200\n",
            "O seu desconto foi de R$ 20.0 e o total a pagar será R$ 180.0\n"
          ]
        }
      ]
    },
    {
      "cell_type": "code",
      "source": [
        "# ATIVIDADE - ESTRUTURAS DE SELEÇÃO - 8/15\n",
        "\n",
        "# INSERIR HORA EXTRA\n",
        "horaextra = int(input('Horas extras trabalhadas: '))\n",
        "# INSERIR HORAS DE FALTA\n",
        "horafalta = int(input('Quantas horas faltou: '))\n",
        "\n",
        "\n",
        "if horaextra > (horafalta * 1.5):\n",
        "  print('Bônus R$ 500,00')\n",
        "else:\n",
        "  print('Sem bônus')"
      ],
      "metadata": {
        "colab": {
          "base_uri": "https://localhost:8080/"
        },
        "id": "CEZvIkSR8qDf",
        "outputId": "1f2cd52a-84ef-43e0-8ed2-3528c197a403"
      },
      "execution_count": null,
      "outputs": [
        {
          "output_type": "stream",
          "name": "stdout",
          "text": [
            "Horas extras trabalhadas: 100\n",
            "Quantas horas faltou: 60\n",
            "Bônus R$ 500,00\n"
          ]
        }
      ]
    },
    {
      "cell_type": "code",
      "source": [
        "# ATIVIDADE - ESTRUTURAS DE SELEÇÃO - 9/15\n",
        "\n",
        "ladoa, ladob, ladoc = 20, 20, 20\n",
        "\n",
        "if ladoa == ladob == ladoc:\n",
        "  print('Equilátero')\n",
        "elif ladoa == ladob or ladob == ladoc or ladoa == ladoc:\n",
        "  print('Isóceles')\n",
        "else:\n",
        "  print('Escaleno')"
      ],
      "metadata": {
        "colab": {
          "base_uri": "https://localhost:8080/"
        },
        "id": "kdMA3_aaDHb9",
        "outputId": "2191679d-ad07-4af3-dd59-922fb744af7b"
      },
      "execution_count": null,
      "outputs": [
        {
          "output_type": "stream",
          "name": "stdout",
          "text": [
            "Equilátero\n"
          ]
        }
      ]
    },
    {
      "cell_type": "code",
      "source": [
        "# ATIVIDADE - ESTRUTURAS DE SELEÇÃO - 10/15\n",
        "\n",
        "idade = int(input('Digite sua idade: '))\n",
        "# ABAIXO DE 12 E ACIMA DE 60, R$ 15,00\n",
        "# ENTRE 12 E 60, R$ 25,00\n",
        "\n",
        "if 12 < idade < 60:\n",
        "  print('Valor do ingresso: R$ 25,00!')\n",
        "else:\n",
        "  print('Valor do ingresso: R$ 15,00')"
      ],
      "metadata": {
        "colab": {
          "base_uri": "https://localhost:8080/"
        },
        "id": "qfYySjgrEVys",
        "outputId": "509fdd2b-e4e8-40e3-eef4-22c4515db967"
      },
      "execution_count": null,
      "outputs": [
        {
          "output_type": "stream",
          "name": "stdout",
          "text": [
            "Digite sua idade: 12\n",
            "Valor do ingresso: R$ 15,00\n"
          ]
        }
      ]
    },
    {
      "cell_type": "code",
      "source": [
        "# ATIVIDADE - ESTRUTURAS DE SELEÇÃO - 11/15\n",
        "\n",
        "temperatura = int(input('Digite a temperatura: '))\n",
        "\n",
        "if temperatura < 15:\n",
        "  print('Está frio!')\n",
        "elif 15 < temperatura < 25:\n",
        "  print('Está ameno!')\n",
        "else:\n",
        "  print('Está quente!')"
      ],
      "metadata": {
        "colab": {
          "base_uri": "https://localhost:8080/"
        },
        "id": "K9AkQHVKFefx",
        "outputId": "6b4187db-fcdf-4364-db77-e56312acf701"
      },
      "execution_count": null,
      "outputs": [
        {
          "output_type": "stream",
          "name": "stdout",
          "text": [
            "Digite a temperatura: 30\n",
            "Está quente!\n"
          ]
        }
      ]
    },
    {
      "cell_type": "code",
      "source": [
        "# ATIVIDADE - ESTRUTURAS DE SELEÇÃO - 12/15\n",
        "\n",
        "#LEGENDA\n",
        "print('Digite o número do seu candidato: ')\n",
        "print('1 - Candidato A')\n",
        "print('2 - Candidato B')\n",
        "print('3 - Candidato C')\n",
        "\n",
        "candidato = int(input('Digite o número do seu candidato: '))\n",
        "\n",
        "#if candidato == 1 or candidato == 2 or candidato == 3:\n",
        "#      if candidato == 1:\n",
        "#        print(f'Candidato digitado - {candidato} - A!')\n",
        "#      elif candidato == 2:\n",
        "#        print(f'Candidato digitado - {candidato} - B!')\n",
        "#      else:\n",
        "#        print(f'Candidato digitado - {candidato} - C!')\n",
        "#\n",
        "#else:\n",
        "#  print(f'Candidato digitado - {candidato} - inválido!')\n",
        "\n",
        "\n",
        "if 1 <= candidato <= 3:\n",
        "      if candidato == 1:\n",
        "        print(f'Candidato digitado - {candidato} - A!')\n",
        "      elif candidato == 2:\n",
        "        print(f'Candidato digitado - {candidato} - B!')\n",
        "      else:\n",
        "        print(f'Candidato digitado - {candidato} - C!')\n",
        "\n",
        "else:\n",
        "  print(f'Candidato digitado - {candidato} - inválido!')"
      ],
      "metadata": {
        "id": "DvLJO6ASGiJn",
        "colab": {
          "base_uri": "https://localhost:8080/",
          "height": 0
        },
        "outputId": "5d3aa605-9d81-4f0f-c40e-dff8a8e6b701"
      },
      "execution_count": 8,
      "outputs": [
        {
          "output_type": "stream",
          "name": "stdout",
          "text": [
            "Digite o número do seu candidato: \n",
            "1 - Candidato A\n",
            "2 - Candidato B\n",
            "3 - Candidato C\n",
            "Digite o número do seu candidato: 0\n",
            "Candidato digitado - 0 - inválido!\n"
          ]
        }
      ]
    },
    {
      "cell_type": "code",
      "source": [
        "# ATIVIDADE - ESTRUTURAS DE SELEÇÃO - 13/15\n",
        "\n",
        "# DIGITAR O SALÁRIO\n",
        "salario = float(input('Digite o seu salário: '))\n",
        "\n",
        "# SE SALÁRIO ATÉ R$ 2.000,00 - ISENTO\n",
        "# SE SALÁRIO ATÉ R$ 2.000,01 À 3.500,00 - 10%\n",
        "# A CIMA 3.500,00 - 15%\n",
        "\n",
        "if salario <= 2000:\n",
        "  print(f'Você é isento de imposto!')\n",
        "elif 2000.01 < salario <= 3500:\n",
        "  print(f'Você pagará 10% de imposto:')\n",
        "  print(f'R$ {salario * 0.1}')\n",
        "else:\n",
        "  print(f'Você pagará 15% de imposto:')\n",
        "  print(f'R$ {salario * 0.15}')\n"
      ],
      "metadata": {
        "colab": {
          "base_uri": "https://localhost:8080/",
          "height": 0
        },
        "id": "71FSF3UgyjbW",
        "outputId": "435a4705-492b-4c6c-9251-35ced07ee740"
      },
      "execution_count": 17,
      "outputs": [
        {
          "output_type": "stream",
          "name": "stdout",
          "text": [
            "Digite o seu salário: 650\n",
            "Você é isento de imposto!\n"
          ]
        }
      ]
    },
    {
      "cell_type": "code",
      "source": [
        "# ATIVIDADE - ESTRUTURAS DE SELEÇÃO - 14/15\n",
        "\n",
        "# DIGITAR VELOCIDADE\n",
        "velocidade = float(input('Digite a velocidade: '))\n",
        "\n",
        "# LIMITE VELOCIDADE 80KM\n",
        "# ACIMA DE 80KM, PAGARÁ R$ 5,00 POR KM EXCEDIDO\n",
        "\n",
        "if velocidade <= 80:\n",
        "  print(f'Você está rodando - {velocidade} KM - dentro do limite de velocidade!')\n",
        "else:\n",
        "  excedido = velocidade - 80\n",
        "  multa = float(excedido * 5)\n",
        "  print(f'Velocidade atual: 80 KM')\n",
        "  print(f'Velocidade atual: {velocidade} KM')\n",
        "  print(f'Velocidade excedida: {excedido} KM')\n",
        "  print(f'Multa: R$ {multa}')\n"
      ],
      "metadata": {
        "colab": {
          "base_uri": "https://localhost:8080/",
          "height": 0
        },
        "id": "0TDjDiHB3TBD",
        "outputId": "6dd2d709-1f90-4a21-f654-a69b313df5e0"
      },
      "execution_count": 21,
      "outputs": [
        {
          "output_type": "stream",
          "name": "stdout",
          "text": [
            "Digite a velocidade: 150\n",
            "Velocidade atual: 80 KM\n",
            "Velocidade atual: 150.0 KM\n",
            "Velocidade excedida: 70.0 KM\n",
            "Multa: R$ 350.0\n"
          ]
        }
      ]
    },
    {
      "cell_type": "code",
      "source": [
        "# ATIVIDADE - ESTRUTURAS DE SELEÇÃO - 15/15\n",
        "\n",
        "usuario = input('Digite seu usuário: ')\n",
        "senha = input('Digite sua senha: ')\n",
        "\n",
        "if senha == 'Python123':\n",
        "  print('Acesso concedido!')\n",
        "else:\n",
        "  print('Acesso negado!')\n"
      ],
      "metadata": {
        "colab": {
          "base_uri": "https://localhost:8080/",
          "height": 0
        },
        "id": "QTaJTM9r_YJv",
        "outputId": "0375b2fa-18af-4ee4-e2eb-3e256861cda3"
      },
      "execution_count": 25,
      "outputs": [
        {
          "output_type": "stream",
          "name": "stdout",
          "text": [
            "Digite seu usuário: teste\n",
            "Digite sua senha: Python123\n",
            "Acesso concedido!\n"
          ]
        }
      ]
    }
  ]
}